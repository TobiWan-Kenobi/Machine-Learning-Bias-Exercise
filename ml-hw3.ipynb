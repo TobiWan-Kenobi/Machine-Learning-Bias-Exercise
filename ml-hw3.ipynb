{
 "cells": [
  {
   "cell_type": "markdown",
   "metadata": {},
   "source": [
    "# Machine Learning Homework 3"
   ]
  },
  {
   "cell_type": "markdown",
   "metadata": {},
   "source": [
    "## Instructions"
   ]
  },
  {
   "cell_type": "markdown",
   "metadata": {},
   "source": [
    "**Completing the homework:**  Follow along with the text and code in the notebook from start to finish.  There are two parts and 5 graded questions, worth a total of 5 points.  While some code is provided for you in the notebook, there are two types of work left for you:\n",
    "- **Tasks:** This work is meant to help you better understand the course material an will help you answer the questions.  Importantly, this work is not graded.  Tt is optional, but highly recommended.\n",
    "- **Questions:** These are the questions you need to answer and that are graded.\n",
    "    \n",
    "**How to turn in the homework**:  You need to make **two different Moodle submissions**.  First, you must open the Moodle Homework 3 Answers resources and answer the questions exactly how they correspond to those found in the Notebook.  Second, you must upload your notebook to the Moodle Homework 3 Notebook Upload.\n",
    "\n",
    "This homework is due **before class on Monday, May 10.**"
   ]
  },
  {
   "cell_type": "markdown",
   "metadata": {},
   "source": [
    "## Imports\n",
    "\n",
    "Below are the all the imports you will need to complete the homework.  You may use additional libraries if you desire, but they should not be needed."
   ]
  },
  {
   "cell_type": "code",
   "execution_count": 1,
   "metadata": {},
   "outputs": [],
   "source": [
    "import pandas as pd\n",
    "import numpy as np\n",
    "import seaborn as sns\n",
    "\n",
    "from sklearn import tree\n",
    "from sklearn.model_selection import train_test_split\n",
    "from sklearn.linear_model import LogisticRegression\n",
    "from sklearn.tree import DecisionTreeClassifier\n",
    "from sklearn.metrics import mean_squared_error, confusion_matrix, accuracy_score, roc_auc_score, precision_score, recall_score, f1_score, roc_curve, auc\n",
    "from sklearn.preprocessing import StandardScaler\n",
    "from sklearn.ensemble import RandomForestClassifier\n",
    "\n",
    "import pandas as pd\n",
    "import seaborn as sns\n",
    "from aequitas.group import Group\n",
    "from aequitas.bias import Bias\n",
    "from aequitas.fairness import Fairness\n",
    "from aequitas.plotting import Plot\n",
    "\n",
    "import shap\n",
    "import xgboost\n",
    "\n",
    "import warnings; warnings.simplefilter('ignore')\n",
    "\n",
    "%matplotlib inline\n",
    "\n",
    "from sklearn.cluster import KMeans\n",
    "from sklearn.datasets import make_blobs\n",
    "\n",
    "from matplotlib import pyplot as plt\n",
    "%matplotlib inline\n",
    "\n",
    "import warnings\n",
    "\n",
    "pd.set_option('display.max_columns', None)\n",
    "pd.set_option('display.max_rows', None)\n",
    "warnings.filterwarnings(\"ignore\") "
   ]
  },
  {
   "cell_type": "markdown",
   "metadata": {},
   "source": [
    "# Bias and Fairness"
   ]
  },
  {
   "cell_type": "markdown",
   "metadata": {},
   "source": [
    "## Choosing a fairness metric"
   ]
  },
  {
   "cell_type": "markdown",
   "metadata": {},
   "source": [
    "Consider the following scenario:\n",
    "\n",
    "Suppose a certain country in Europe is building a model to predict the risk that a criminal is going to recidivate, similiar to the prediction made by the COMPAS model discussed in class.  However, in contrast to COMPAS, the goal is not to use these scores to determine whether or not an individual is allowed to be free; instead, those individuals with a high risk score will be admitted into a special program.  The special program has three components:  (1) the individuals recieve one-on-one counseling, (2) the individuals will recieve a monthly stipend, and (3) the individuals are set up with housing.  The program is a benefit to the individuals and is aimed at reducing recividism."
   ]
  },
  {
   "cell_type": "markdown",
   "metadata": {},
   "source": [
    "**Task:**  Consider the confusion matrix for the model.  How would you interpret the true positive, false positives, true negatives, and false negatives?\n",
    "\n",
    "**Answer:** <br>\n",
    "True positive: We predict that he/she recidivate and he/she indeed would without any intervention. We might prevent him/her from recidivating with the benefits. <br>\n",
    "False positive: We predict that he/she would recidivate, but indeed he/she would not. The benefits we give to him/her do not prevent recidivation and would be wasted tax money with respect to the goal of the expense.\n",
    "\n",
    "True negative: We predict that he/she does not recividate and indeed he/she does not. We do not give him/her benefits and its all good. <br>\n",
    "False negative: We predict that he/she does not recidivate although in reality he/she does. We could have prevented the crime he/she comits by granting him/her the benefits."
   ]
  },
  {
   "cell_type": "markdown",
   "metadata": {},
   "source": [
    "The country is trying to decide on the proper fairness metric to use for their machine learning model, and cares about the protected attribute race.  In terms of representation, they would either accept a model that has equal nominal representation of different races, or equal proportional representation in the special program.  They are also concerend about errors made by the model, and want to make sure that predictive equity among groups is acheieved for people with need."
   ]
  },
  {
   "cell_type": "markdown",
   "metadata": {},
   "source": [
    "**Task:**  Review the Aequitas guidelines for fairness metrics, and think about them in the context of this problem:  http://www.datasciencepublicpolicy.org/projects/aequitas/."
   ]
  },
  {
   "cell_type": "markdown",
   "metadata": {},
   "source": [
    "**Question 1 (1 pt):** Which of the following is NOT a good choice for a fairness metric for the model?\n",
    "\n",
    "> a) False Negative Rate Parity \\\n",
    "> b) Minimizing Disparate Impact \\\n",
    "> c) Demographic Parity \\\n",
    "> x d) False Discovery Rate Parity"
   ]
  },
  {
   "cell_type": "markdown",
   "metadata": {},
   "source": [
    "## Auditing and mitigating bias"
   ]
  },
  {
   "cell_type": "markdown",
   "metadata": {},
   "source": [
    "We will now work on a machine learning problem related to student educational outcomes.  The goal of Part 1 of this  homework assignment is to build a model that can accurately predict whether or not a student will pass their final year of high school, and audit that model for bias.\n",
    "\n",
    "The data we will use contains **student achievement in high school** for students enrolled in two Portuguese schools. The data features include **student grades, demographics, social and school-related features** and it was collected by using school reports and questionnaires [Cortez and Silva, 2008].  This data comes from a study carried about by Paulo Cortez at the University of Minho, located in Guimaraes, Portugal.  More information on the data and the problem can be found here:   https://www.kaggle.com/dipam7/student-grade-prediction.\n",
    "\n",
    "The **business context** of this problem is building a machine learning model that can accurately predict if a student will fail their final year of secondary education, so that they may be enrolled pre-emptively into remedial courses."
   ]
  },
  {
   "cell_type": "code",
   "execution_count": 2,
   "metadata": {},
   "outputs": [],
   "source": [
    "X = pd.read_csv(\"matrices/X.csv\",index_col=0)\n",
    "y = pd.read_csv(\"matrices/y.csv\",index_col=0,squeeze = True)"
   ]
  },
  {
   "cell_type": "code",
   "execution_count": 3,
   "metadata": {},
   "outputs": [
    {
     "data": {
      "text/html": [
       "<div>\n",
       "<style scoped>\n",
       "    .dataframe tbody tr th:only-of-type {\n",
       "        vertical-align: middle;\n",
       "    }\n",
       "\n",
       "    .dataframe tbody tr th {\n",
       "        vertical-align: top;\n",
       "    }\n",
       "\n",
       "    .dataframe thead th {\n",
       "        text-align: right;\n",
       "    }\n",
       "</style>\n",
       "<table border=\"1\" class=\"dataframe\">\n",
       "  <thead>\n",
       "    <tr style=\"text-align: right;\">\n",
       "      <th></th>\n",
       "      <th>absences</th>\n",
       "      <th>failures</th>\n",
       "      <th>grade1</th>\n",
       "      <th>traveltime</th>\n",
       "      <th>studytime</th>\n",
       "      <th>famrel</th>\n",
       "      <th>freetime</th>\n",
       "      <th>goout</th>\n",
       "      <th>Dalc</th>\n",
       "      <th>Walc</th>\n",
       "      <th>health</th>\n",
       "      <th>activities</th>\n",
       "      <th>nursery</th>\n",
       "      <th>internet</th>\n",
       "      <th>romantic</th>\n",
       "      <th>school_gp</th>\n",
       "      <th>address_urban</th>\n",
       "      <th>famsize_gt3</th>\n",
       "      <th>Pstatus_togethor</th>\n",
       "      <th>sex_female</th>\n",
       "      <th>health_mjob</th>\n",
       "      <th>other_mjob</th>\n",
       "      <th>services_mjob</th>\n",
       "      <th>teacher_mjob</th>\n",
       "      <th>health_fjob</th>\n",
       "      <th>other_fjob</th>\n",
       "      <th>services_fjob</th>\n",
       "      <th>teacher_fjob</th>\n",
       "      <th>home_reason</th>\n",
       "      <th>other_reason</th>\n",
       "      <th>reputation_reason</th>\n",
       "      <th>mother_guardian</th>\n",
       "      <th>other_guardian</th>\n",
       "    </tr>\n",
       "  </thead>\n",
       "  <tbody>\n",
       "    <tr>\n",
       "      <th>0</th>\n",
       "      <td>12</td>\n",
       "      <td>0</td>\n",
       "      <td>15</td>\n",
       "      <td>1</td>\n",
       "      <td>1</td>\n",
       "      <td>3</td>\n",
       "      <td>2</td>\n",
       "      <td>1</td>\n",
       "      <td>1</td>\n",
       "      <td>4</td>\n",
       "      <td>5</td>\n",
       "      <td>0</td>\n",
       "      <td>1</td>\n",
       "      <td>1</td>\n",
       "      <td>0</td>\n",
       "      <td>1</td>\n",
       "      <td>1</td>\n",
       "      <td>1</td>\n",
       "      <td>0</td>\n",
       "      <td>1</td>\n",
       "      <td>0</td>\n",
       "      <td>0</td>\n",
       "      <td>1</td>\n",
       "      <td>0</td>\n",
       "      <td>0</td>\n",
       "      <td>1</td>\n",
       "      <td>0</td>\n",
       "      <td>0</td>\n",
       "      <td>0</td>\n",
       "      <td>0</td>\n",
       "      <td>0</td>\n",
       "      <td>0</td>\n",
       "      <td>0</td>\n",
       "    </tr>\n",
       "    <tr>\n",
       "      <th>1</th>\n",
       "      <td>2</td>\n",
       "      <td>0</td>\n",
       "      <td>17</td>\n",
       "      <td>1</td>\n",
       "      <td>2</td>\n",
       "      <td>5</td>\n",
       "      <td>3</td>\n",
       "      <td>4</td>\n",
       "      <td>1</td>\n",
       "      <td>3</td>\n",
       "      <td>3</td>\n",
       "      <td>1</td>\n",
       "      <td>0</td>\n",
       "      <td>1</td>\n",
       "      <td>0</td>\n",
       "      <td>1</td>\n",
       "      <td>1</td>\n",
       "      <td>1</td>\n",
       "      <td>1</td>\n",
       "      <td>1</td>\n",
       "      <td>0</td>\n",
       "      <td>1</td>\n",
       "      <td>0</td>\n",
       "      <td>0</td>\n",
       "      <td>0</td>\n",
       "      <td>1</td>\n",
       "      <td>0</td>\n",
       "      <td>0</td>\n",
       "      <td>0</td>\n",
       "      <td>0</td>\n",
       "      <td>0</td>\n",
       "      <td>1</td>\n",
       "      <td>0</td>\n",
       "    </tr>\n",
       "    <tr>\n",
       "      <th>2</th>\n",
       "      <td>0</td>\n",
       "      <td>2</td>\n",
       "      <td>9</td>\n",
       "      <td>2</td>\n",
       "      <td>1</td>\n",
       "      <td>4</td>\n",
       "      <td>4</td>\n",
       "      <td>5</td>\n",
       "      <td>3</td>\n",
       "      <td>5</td>\n",
       "      <td>5</td>\n",
       "      <td>0</td>\n",
       "      <td>0</td>\n",
       "      <td>1</td>\n",
       "      <td>0</td>\n",
       "      <td>1</td>\n",
       "      <td>1</td>\n",
       "      <td>0</td>\n",
       "      <td>1</td>\n",
       "      <td>0</td>\n",
       "      <td>1</td>\n",
       "      <td>0</td>\n",
       "      <td>0</td>\n",
       "      <td>0</td>\n",
       "      <td>0</td>\n",
       "      <td>0</td>\n",
       "      <td>1</td>\n",
       "      <td>0</td>\n",
       "      <td>0</td>\n",
       "      <td>0</td>\n",
       "      <td>0</td>\n",
       "      <td>1</td>\n",
       "      <td>0</td>\n",
       "    </tr>\n",
       "    <tr>\n",
       "      <th>3</th>\n",
       "      <td>4</td>\n",
       "      <td>0</td>\n",
       "      <td>14</td>\n",
       "      <td>2</td>\n",
       "      <td>2</td>\n",
       "      <td>4</td>\n",
       "      <td>4</td>\n",
       "      <td>3</td>\n",
       "      <td>1</td>\n",
       "      <td>1</td>\n",
       "      <td>3</td>\n",
       "      <td>1</td>\n",
       "      <td>1</td>\n",
       "      <td>1</td>\n",
       "      <td>0</td>\n",
       "      <td>0</td>\n",
       "      <td>1</td>\n",
       "      <td>1</td>\n",
       "      <td>1</td>\n",
       "      <td>0</td>\n",
       "      <td>0</td>\n",
       "      <td>1</td>\n",
       "      <td>0</td>\n",
       "      <td>0</td>\n",
       "      <td>0</td>\n",
       "      <td>0</td>\n",
       "      <td>1</td>\n",
       "      <td>0</td>\n",
       "      <td>1</td>\n",
       "      <td>0</td>\n",
       "      <td>0</td>\n",
       "      <td>0</td>\n",
       "      <td>0</td>\n",
       "    </tr>\n",
       "    <tr>\n",
       "      <th>4</th>\n",
       "      <td>2</td>\n",
       "      <td>0</td>\n",
       "      <td>12</td>\n",
       "      <td>2</td>\n",
       "      <td>1</td>\n",
       "      <td>4</td>\n",
       "      <td>3</td>\n",
       "      <td>2</td>\n",
       "      <td>1</td>\n",
       "      <td>4</td>\n",
       "      <td>5</td>\n",
       "      <td>0</td>\n",
       "      <td>1</td>\n",
       "      <td>0</td>\n",
       "      <td>0</td>\n",
       "      <td>1</td>\n",
       "      <td>1</td>\n",
       "      <td>1</td>\n",
       "      <td>1</td>\n",
       "      <td>1</td>\n",
       "      <td>0</td>\n",
       "      <td>0</td>\n",
       "      <td>0</td>\n",
       "      <td>0</td>\n",
       "      <td>0</td>\n",
       "      <td>1</td>\n",
       "      <td>0</td>\n",
       "      <td>0</td>\n",
       "      <td>1</td>\n",
       "      <td>0</td>\n",
       "      <td>0</td>\n",
       "      <td>1</td>\n",
       "      <td>0</td>\n",
       "    </tr>\n",
       "  </tbody>\n",
       "</table>\n",
       "</div>"
      ],
      "text/plain": [
       "   absences  failures  grade1  traveltime  studytime  famrel  freetime  goout  \\\n",
       "0        12         0      15           1          1       3         2      1   \n",
       "1         2         0      17           1          2       5         3      4   \n",
       "2         0         2       9           2          1       4         4      5   \n",
       "3         4         0      14           2          2       4         4      3   \n",
       "4         2         0      12           2          1       4         3      2   \n",
       "\n",
       "   Dalc  Walc  health  activities  nursery  internet  romantic  school_gp  \\\n",
       "0     1     4       5           0        1         1         0          1   \n",
       "1     1     3       3           1        0         1         0          1   \n",
       "2     3     5       5           0        0         1         0          1   \n",
       "3     1     1       3           1        1         1         0          0   \n",
       "4     1     4       5           0        1         0         0          1   \n",
       "\n",
       "   address_urban  famsize_gt3  Pstatus_togethor  sex_female  health_mjob  \\\n",
       "0              1            1                 0           1            0   \n",
       "1              1            1                 1           1            0   \n",
       "2              1            0                 1           0            1   \n",
       "3              1            1                 1           0            0   \n",
       "4              1            1                 1           1            0   \n",
       "\n",
       "   other_mjob  services_mjob  teacher_mjob  health_fjob  other_fjob  \\\n",
       "0           0              1             0            0           1   \n",
       "1           1              0             0            0           1   \n",
       "2           0              0             0            0           0   \n",
       "3           1              0             0            0           0   \n",
       "4           0              0             0            0           1   \n",
       "\n",
       "   services_fjob  teacher_fjob  home_reason  other_reason  reputation_reason  \\\n",
       "0              0             0            0             0                  0   \n",
       "1              0             0            0             0                  0   \n",
       "2              1             0            0             0                  0   \n",
       "3              1             0            1             0                  0   \n",
       "4              0             0            1             0                  0   \n",
       "\n",
       "   mother_guardian  other_guardian  \n",
       "0                0               0  \n",
       "1                1               0  \n",
       "2                1               0  \n",
       "3                0               0  \n",
       "4                1               0  "
      ]
     },
     "execution_count": 3,
     "metadata": {},
     "output_type": "execute_result"
    }
   ],
   "source": [
    "X.head()"
   ]
  },
  {
   "cell_type": "markdown",
   "metadata": {},
   "source": [
    "Now we will divide the data into training and testing data using the sklearn `train_test_split` function."
   ]
  },
  {
   "cell_type": "code",
   "execution_count": 4,
   "metadata": {},
   "outputs": [],
   "source": [
    "X_train, X_test, y_train, y_test = train_test_split(X, y, test_size=0.4, random_state=42)"
   ]
  },
  {
   "cell_type": "markdown",
   "metadata": {},
   "source": [
    "**Task**:  Train a Random Forest Classifier (https://scikit-learn.org/stable/modules/generated/sklearn.ensemble.RandomForestClassifier.html) for this data.  Use the hyperparmeters `max_depth=6, n_estimators=100,random_state=42` when training the classifier."
   ]
  },
  {
   "cell_type": "code",
   "execution_count": 5,
   "metadata": {},
   "outputs": [
    {
     "data": {
      "text/html": [
       "<style>#sk-container-id-1 {color: black;background-color: white;}#sk-container-id-1 pre{padding: 0;}#sk-container-id-1 div.sk-toggleable {background-color: white;}#sk-container-id-1 label.sk-toggleable__label {cursor: pointer;display: block;width: 100%;margin-bottom: 0;padding: 0.3em;box-sizing: border-box;text-align: center;}#sk-container-id-1 label.sk-toggleable__label-arrow:before {content: \"▸\";float: left;margin-right: 0.25em;color: #696969;}#sk-container-id-1 label.sk-toggleable__label-arrow:hover:before {color: black;}#sk-container-id-1 div.sk-estimator:hover label.sk-toggleable__label-arrow:before {color: black;}#sk-container-id-1 div.sk-toggleable__content {max-height: 0;max-width: 0;overflow: hidden;text-align: left;background-color: #f0f8ff;}#sk-container-id-1 div.sk-toggleable__content pre {margin: 0.2em;color: black;border-radius: 0.25em;background-color: #f0f8ff;}#sk-container-id-1 input.sk-toggleable__control:checked~div.sk-toggleable__content {max-height: 200px;max-width: 100%;overflow: auto;}#sk-container-id-1 input.sk-toggleable__control:checked~label.sk-toggleable__label-arrow:before {content: \"▾\";}#sk-container-id-1 div.sk-estimator input.sk-toggleable__control:checked~label.sk-toggleable__label {background-color: #d4ebff;}#sk-container-id-1 div.sk-label input.sk-toggleable__control:checked~label.sk-toggleable__label {background-color: #d4ebff;}#sk-container-id-1 input.sk-hidden--visually {border: 0;clip: rect(1px 1px 1px 1px);clip: rect(1px, 1px, 1px, 1px);height: 1px;margin: -1px;overflow: hidden;padding: 0;position: absolute;width: 1px;}#sk-container-id-1 div.sk-estimator {font-family: monospace;background-color: #f0f8ff;border: 1px dotted black;border-radius: 0.25em;box-sizing: border-box;margin-bottom: 0.5em;}#sk-container-id-1 div.sk-estimator:hover {background-color: #d4ebff;}#sk-container-id-1 div.sk-parallel-item::after {content: \"\";width: 100%;border-bottom: 1px solid gray;flex-grow: 1;}#sk-container-id-1 div.sk-label:hover label.sk-toggleable__label {background-color: #d4ebff;}#sk-container-id-1 div.sk-serial::before {content: \"\";position: absolute;border-left: 1px solid gray;box-sizing: border-box;top: 0;bottom: 0;left: 50%;z-index: 0;}#sk-container-id-1 div.sk-serial {display: flex;flex-direction: column;align-items: center;background-color: white;padding-right: 0.2em;padding-left: 0.2em;position: relative;}#sk-container-id-1 div.sk-item {position: relative;z-index: 1;}#sk-container-id-1 div.sk-parallel {display: flex;align-items: stretch;justify-content: center;background-color: white;position: relative;}#sk-container-id-1 div.sk-item::before, #sk-container-id-1 div.sk-parallel-item::before {content: \"\";position: absolute;border-left: 1px solid gray;box-sizing: border-box;top: 0;bottom: 0;left: 50%;z-index: -1;}#sk-container-id-1 div.sk-parallel-item {display: flex;flex-direction: column;z-index: 1;position: relative;background-color: white;}#sk-container-id-1 div.sk-parallel-item:first-child::after {align-self: flex-end;width: 50%;}#sk-container-id-1 div.sk-parallel-item:last-child::after {align-self: flex-start;width: 50%;}#sk-container-id-1 div.sk-parallel-item:only-child::after {width: 0;}#sk-container-id-1 div.sk-dashed-wrapped {border: 1px dashed gray;margin: 0 0.4em 0.5em 0.4em;box-sizing: border-box;padding-bottom: 0.4em;background-color: white;}#sk-container-id-1 div.sk-label label {font-family: monospace;font-weight: bold;display: inline-block;line-height: 1.2em;}#sk-container-id-1 div.sk-label-container {text-align: center;}#sk-container-id-1 div.sk-container {/* jupyter's `normalize.less` sets `[hidden] { display: none; }` but bootstrap.min.css set `[hidden] { display: none !important; }` so we also need the `!important` here to be able to override the default hidden behavior on the sphinx rendered scikit-learn.org. See: https://github.com/scikit-learn/scikit-learn/issues/21755 */display: inline-block !important;position: relative;}#sk-container-id-1 div.sk-text-repr-fallback {display: none;}</style><div id=\"sk-container-id-1\" class=\"sk-top-container\"><div class=\"sk-text-repr-fallback\"><pre>RandomForestClassifier(max_depth=6, random_state=42)</pre><b>In a Jupyter environment, please rerun this cell to show the HTML representation or trust the notebook. <br />On GitHub, the HTML representation is unable to render, please try loading this page with nbviewer.org.</b></div><div class=\"sk-container\" hidden><div class=\"sk-item\"><div class=\"sk-estimator sk-toggleable\"><input class=\"sk-toggleable__control sk-hidden--visually\" id=\"sk-estimator-id-1\" type=\"checkbox\" checked><label for=\"sk-estimator-id-1\" class=\"sk-toggleable__label sk-toggleable__label-arrow\">RandomForestClassifier</label><div class=\"sk-toggleable__content\"><pre>RandomForestClassifier(max_depth=6, random_state=42)</pre></div></div></div></div></div>"
      ],
      "text/plain": [
       "RandomForestClassifier(max_depth=6, random_state=42)"
      ]
     },
     "execution_count": 5,
     "metadata": {},
     "output_type": "execute_result"
    }
   ],
   "source": [
    "RandomForest = RandomForestClassifier(n_estimators = 100, max_depth = 6, random_state=42)\n",
    "RandomForest.fit(X_train, y_train)"
   ]
  },
  {
   "cell_type": "markdown",
   "metadata": {},
   "source": [
    "**Task:** Print out and plot the feature importance of the RandomForestClassifier.  What is the most important feature?  What is the least important feature?  Do you notice any feature importance that may indicate bias in the model?"
   ]
  },
  {
   "cell_type": "code",
   "execution_count": 20,
   "metadata": {
    "jupyter": {
     "source_hidden": true
    },
    "tags": []
   },
   "outputs": [],
   "source": [
    "feature_imprtnc = dict(zip(X.columns, RandomForest.feature_importances_))"
   ]
  },
  {
   "cell_type": "code",
   "execution_count": 21,
   "metadata": {
    "jupyter": {
     "source_hidden": true
    },
    "tags": []
   },
   "outputs": [
    {
     "data": {
      "text/plain": [
       "{'absences': 0.08165817564711951,\n",
       " 'failures': 0.09316393898870437,\n",
       " 'grade1': 0.43680732085213203,\n",
       " 'traveltime': 0.016379253354668232,\n",
       " 'studytime': 0.020109998092071067,\n",
       " 'famrel': 0.03266078053334526,\n",
       " 'freetime': 0.02217689727099665,\n",
       " 'goout': 0.034817207564433766,\n",
       " 'Dalc': 0.021827077037824768,\n",
       " 'Walc': 0.02357554412441934,\n",
       " 'health': 0.02462119426146109,\n",
       " 'activities': 0.008763914485614933,\n",
       " 'nursery': 0.007754376555521284,\n",
       " 'internet': 0.015244349874225373,\n",
       " 'romantic': 0.013765839666429832,\n",
       " 'school_gp': 0.016588723596342992,\n",
       " 'address_urban': 0.012108844617909533,\n",
       " 'famsize_gt3': 0.010027242335080535,\n",
       " 'Pstatus_togethor': 0.005546063341417193,\n",
       " 'sex_female': 0.007148121943724799,\n",
       " 'health_mjob': 0.0025829551236134746,\n",
       " 'other_mjob': 0.009053798062316489,\n",
       " 'services_mjob': 0.006633079180204706,\n",
       " 'teacher_mjob': 0.005750418339734966,\n",
       " 'health_fjob': 0.0012869067920734142,\n",
       " 'other_fjob': 0.010971588346056726,\n",
       " 'services_fjob': 0.013722787946560169,\n",
       " 'teacher_fjob': 0.003314858762737637,\n",
       " 'home_reason': 0.009203466032491288,\n",
       " 'other_reason': 0.00590546099271829,\n",
       " 'reputation_reason': 0.008944835881570856,\n",
       " 'mother_guardian': 0.007287103770340526,\n",
       " 'other_guardian': 0.010597876626138751}"
      ]
     },
     "execution_count": 21,
     "metadata": {},
     "output_type": "execute_result"
    }
   ],
   "source": [
    "feature_imprtnc"
   ]
  },
  {
   "cell_type": "code",
   "execution_count": 15,
   "metadata": {
    "jupyter": {
     "source_hidden": true
    },
    "tags": []
   },
   "outputs": [],
   "source": [
    "min_imprtnc = min(RandomForest.feature_importances_)\n",
    "max_imprtnc = max(RandomForest.feature_importances_)\n",
    "min_imprtnc_ix = list(RandomForest.feature_importances_).index(min_imprtnc)\n",
    "max_imprtnc_ix = list(RandomForest.feature_importances_).index(max_imprtnc)\n",
    "min_imprtnc_feature = list(X.columns)[min_imprtnc_ix]\n",
    "max_imprtnc_feature = list(X.columns)[max_imprtnc_ix]"
   ]
  },
  {
   "cell_type": "code",
   "execution_count": 18,
   "metadata": {
    "jupyter": {
     "source_hidden": true
    },
    "tags": []
   },
   "outputs": [
    {
     "name": "stdout",
     "output_type": "stream",
     "text": [
      "Most important feature: grade1 (0.43680732085213203)\n",
      "Least important feature: health_fjob (0.0012869067920734142)\n"
     ]
    }
   ],
   "source": [
    "print(f\"Most important feature: {max_imprtnc_feature} ({max_imprtnc})\\nLeast important feature: {min_imprtnc_feature} ({min_imprtnc})\") "
   ]
  },
  {
   "cell_type": "code",
   "execution_count": 25,
   "metadata": {
    "jupyter": {
     "source_hidden": true
    },
    "tags": []
   },
   "outputs": [
    {
     "name": "stdout",
     "output_type": "stream",
     "text": [
      "sex_female has an importance of 0.007148121943724799. This value is comparably low, but surely not nothing - ceteris paribus, females will be treated different than males.\n"
     ]
    }
   ],
   "source": [
    "print(f\"sex_female has an importance of {feature_imprtnc['sex_female']}. This value is comparably low, but surely not nothing - ceteris paribus, females will be treated different than males.\")"
   ]
  },
  {
   "cell_type": "markdown",
   "metadata": {},
   "source": [
    "**Question 2 (1 pt):** What is the feature importance for the variable `sex_female`?\n",
    "\n",
    "> a) `0.01` \\\n",
    "> x b) `0.007`  \\\n",
    "> c) `0.09` \\\n",
    "> d) `0.436`"
   ]
  },
  {
   "cell_type": "markdown",
   "metadata": {},
   "source": [
    "**Task:** Based on the feature importance of the `sex_female` variable, do you think it has a significant impact on the output of the model?  Reflect on whether or not this means there will be bias present in the model.\n",
    "\n",
    "Regardless, it is important that we conduct a more *robust* bias audit of our model.  To do this, we will use the tool Aequitas.\n",
    "\n",
    "Before we begin, we must first select a fairness metric.  There are several choices that woud make sense (take some time to reflect on these on your own), but for the purposes of this notebook, we will focus on the **False Negative Rate**.\n",
    "\n",
    "Consider the **False Negative** in this context:  a FN is a student that the model predicts will *not* recieve a failing grade, when in reality, they would.  Had they been desiginated as high risk, they would have recieved accesss to the special intervention that is part of our business context.\n",
    "\n",
    "To put this another way, a False Negative Rate disparity between groups would indicate that we were disproportionately *missing out* on desiginating individuals from one group who needed help for special intervention, compared to another other groups."
   ]
  },
  {
   "cell_type": "markdown",
   "metadata": {},
   "source": [
    "**Task:** Follow along with the Aequitas documentation to find the False Negative Rates of the males and females for your model:  https://dssg.github.io/aequitas/examples/compas_demo.html\n",
    "\n",
    "*Note:* Aequitas requires some pre-processing to run properly; that has been done for you in the code cell below and the pre-processed dataset is stored in the variable `df`."
   ]
  },
  {
   "cell_type": "code",
   "execution_count": 26,
   "metadata": {},
   "outputs": [
    {
     "data": {
      "text/html": [
       "<div>\n",
       "<style scoped>\n",
       "    .dataframe tbody tr th:only-of-type {\n",
       "        vertical-align: middle;\n",
       "    }\n",
       "\n",
       "    .dataframe tbody tr th {\n",
       "        vertical-align: top;\n",
       "    }\n",
       "\n",
       "    .dataframe thead th {\n",
       "        text-align: right;\n",
       "    }\n",
       "</style>\n",
       "<table border=\"1\" class=\"dataframe\">\n",
       "  <thead>\n",
       "    <tr style=\"text-align: right;\">\n",
       "      <th></th>\n",
       "      <th>sex</th>\n",
       "      <th>label_value</th>\n",
       "      <th>score</th>\n",
       "    </tr>\n",
       "  </thead>\n",
       "  <tbody>\n",
       "    <tr>\n",
       "      <th>497</th>\n",
       "      <td>F</td>\n",
       "      <td>1</td>\n",
       "      <td>1</td>\n",
       "    </tr>\n",
       "    <tr>\n",
       "      <th>326</th>\n",
       "      <td>F</td>\n",
       "      <td>1</td>\n",
       "      <td>1</td>\n",
       "    </tr>\n",
       "    <tr>\n",
       "      <th>144</th>\n",
       "      <td>F</td>\n",
       "      <td>1</td>\n",
       "      <td>1</td>\n",
       "    </tr>\n",
       "    <tr>\n",
       "      <th>545</th>\n",
       "      <td>M</td>\n",
       "      <td>1</td>\n",
       "      <td>0</td>\n",
       "    </tr>\n",
       "    <tr>\n",
       "      <th>622</th>\n",
       "      <td>M</td>\n",
       "      <td>0</td>\n",
       "      <td>0</td>\n",
       "    </tr>\n",
       "  </tbody>\n",
       "</table>\n",
       "</div>"
      ],
      "text/plain": [
       "    sex  label_value  score\n",
       "497   F            1      1\n",
       "326   F            1      1\n",
       "144   F            1      1\n",
       "545   M            1      0\n",
       "622   M            0      0"
      ]
     },
     "execution_count": 26,
     "metadata": {},
     "output_type": "execute_result"
    }
   ],
   "source": [
    "aequitas = X_train.filter(items=[\"sex_female\"])\n",
    "aequitas[\"sex\"] = aequitas[\"sex_female\"].apply(lambda x: \"F\" if x == 1 else \"M\")\n",
    "aequitas[\"label_value\"] = y_train\n",
    "y_pred_train = RandomForest.predict(X_train)\n",
    "aequitas[\"score\"] = y_pred_train\n",
    "df = aequitas.drop(columns=[\"sex_female\"])\n",
    "\n",
    "df.head(5)"
   ]
  },
  {
   "cell_type": "markdown",
   "metadata": {},
   "source": [
    "**Task:** Calculate the False Negative Rate disparity of the model using the formula `FNR_female / FNR_male`.  What does this value represent?  When would the disparity be equal to `1.0`?  What does a disparity less than `1.0` mean?  What does a disparity greater than `1.0` mean?"
   ]
  },
  {
   "cell_type": "code",
   "execution_count": 27,
   "metadata": {},
   "outputs": [],
   "source": [
    "g = Group()\n",
    "xtab, _ = g.get_crosstabs(df)"
   ]
  },
  {
   "cell_type": "code",
   "execution_count": 28,
   "metadata": {},
   "outputs": [
    {
     "data": {
      "text/html": [
       "<div>\n",
       "<style scoped>\n",
       "    .dataframe tbody tr th:only-of-type {\n",
       "        vertical-align: middle;\n",
       "    }\n",
       "\n",
       "    .dataframe tbody tr th {\n",
       "        vertical-align: top;\n",
       "    }\n",
       "\n",
       "    .dataframe thead th {\n",
       "        text-align: right;\n",
       "    }\n",
       "</style>\n",
       "<table border=\"1\" class=\"dataframe\">\n",
       "  <thead>\n",
       "    <tr style=\"text-align: right;\">\n",
       "      <th></th>\n",
       "      <th>model_id</th>\n",
       "      <th>score_threshold</th>\n",
       "      <th>k</th>\n",
       "      <th>attribute_name</th>\n",
       "      <th>attribute_value</th>\n",
       "      <th>tpr</th>\n",
       "      <th>tnr</th>\n",
       "      <th>for</th>\n",
       "      <th>fdr</th>\n",
       "      <th>fpr</th>\n",
       "      <th>fnr</th>\n",
       "      <th>npv</th>\n",
       "      <th>precision</th>\n",
       "      <th>pp</th>\n",
       "      <th>pn</th>\n",
       "      <th>ppr</th>\n",
       "      <th>pprev</th>\n",
       "      <th>fp</th>\n",
       "      <th>fn</th>\n",
       "      <th>tn</th>\n",
       "      <th>tp</th>\n",
       "      <th>group_label_pos</th>\n",
       "      <th>group_label_neg</th>\n",
       "      <th>group_size</th>\n",
       "      <th>total_entities</th>\n",
       "      <th>prev</th>\n",
       "    </tr>\n",
       "  </thead>\n",
       "  <tbody>\n",
       "    <tr>\n",
       "      <th>0</th>\n",
       "      <td>0</td>\n",
       "      <td>binary 0/1</td>\n",
       "      <td>99</td>\n",
       "      <td>sex</td>\n",
       "      <td>F</td>\n",
       "      <td>0.753247</td>\n",
       "      <td>0.993243</td>\n",
       "      <td>0.060703</td>\n",
       "      <td>0.033333</td>\n",
       "      <td>0.006757</td>\n",
       "      <td>0.246753</td>\n",
       "      <td>0.939297</td>\n",
       "      <td>0.966667</td>\n",
       "      <td>60</td>\n",
       "      <td>313</td>\n",
       "      <td>0.606061</td>\n",
       "      <td>0.160858</td>\n",
       "      <td>2</td>\n",
       "      <td>19</td>\n",
       "      <td>294</td>\n",
       "      <td>58</td>\n",
       "      <td>77</td>\n",
       "      <td>296</td>\n",
       "      <td>373</td>\n",
       "      <td>626</td>\n",
       "      <td>0.206434</td>\n",
       "    </tr>\n",
       "    <tr>\n",
       "      <th>1</th>\n",
       "      <td>0</td>\n",
       "      <td>binary 0/1</td>\n",
       "      <td>99</td>\n",
       "      <td>sex</td>\n",
       "      <td>M</td>\n",
       "      <td>0.696429</td>\n",
       "      <td>1.000000</td>\n",
       "      <td>0.079439</td>\n",
       "      <td>0.000000</td>\n",
       "      <td>0.000000</td>\n",
       "      <td>0.303571</td>\n",
       "      <td>0.920561</td>\n",
       "      <td>1.000000</td>\n",
       "      <td>39</td>\n",
       "      <td>214</td>\n",
       "      <td>0.393939</td>\n",
       "      <td>0.154150</td>\n",
       "      <td>0</td>\n",
       "      <td>17</td>\n",
       "      <td>197</td>\n",
       "      <td>39</td>\n",
       "      <td>56</td>\n",
       "      <td>197</td>\n",
       "      <td>253</td>\n",
       "      <td>626</td>\n",
       "      <td>0.221344</td>\n",
       "    </tr>\n",
       "  </tbody>\n",
       "</table>\n",
       "</div>"
      ],
      "text/plain": [
       "   model_id score_threshold   k attribute_name attribute_value       tpr  \\\n",
       "0         0      binary 0/1  99            sex               F  0.753247   \n",
       "1         0      binary 0/1  99            sex               M  0.696429   \n",
       "\n",
       "        tnr       for       fdr       fpr       fnr       npv  precision  pp  \\\n",
       "0  0.993243  0.060703  0.033333  0.006757  0.246753  0.939297   0.966667  60   \n",
       "1  1.000000  0.079439  0.000000  0.000000  0.303571  0.920561   1.000000  39   \n",
       "\n",
       "    pn       ppr     pprev  fp  fn   tn  tp  group_label_pos  group_label_neg  \\\n",
       "0  313  0.606061  0.160858   2  19  294  58               77              296   \n",
       "1  214  0.393939  0.154150   0  17  197  39               56              197   \n",
       "\n",
       "   group_size  total_entities      prev  \n",
       "0         373             626  0.206434  \n",
       "1         253             626  0.221344  "
      ]
     },
     "execution_count": 28,
     "metadata": {},
     "output_type": "execute_result"
    }
   ],
   "source": [
    "xtab"
   ]
  },
  {
   "cell_type": "code",
   "execution_count": 12,
   "metadata": {
    "jupyter": {
     "source_hidden": true
    },
    "tags": []
   },
   "outputs": [
    {
     "data": {
      "text/plain": [
       "0.8128342245989305"
      ]
     },
     "execution_count": 12,
     "metadata": {},
     "output_type": "execute_result"
    }
   ],
   "source": [
    "xtab['fnr'][0] / xtab['fnr'][1]"
   ]
  },
  {
   "cell_type": "code",
   "execution_count": 38,
   "metadata": {
    "tags": []
   },
   "outputs": [
    {
     "name": "stdout",
     "output_type": "stream",
     "text": [
      "Females have fewer false negatives - i.e. predicting pass although they fail - than males. The model is less friendly towards women\n"
     ]
    }
   ],
   "source": [
    "print(\"Females have fewer false negatives - i.e. predicting pass although they fail - than males. The model is less friendly towards women\")"
   ]
  },
  {
   "cell_type": "code",
   "execution_count": 13,
   "metadata": {},
   "outputs": [],
   "source": [
    "b = Bias()"
   ]
  },
  {
   "cell_type": "code",
   "execution_count": 14,
   "metadata": {},
   "outputs": [
    {
     "name": "stdout",
     "output_type": "stream",
     "text": [
      "get_disparity_predefined_group()\n"
     ]
    },
    {
     "data": {
      "text/html": [
       "<style type=\"text/css\">\n",
       "</style>\n",
       "<table id=\"T_69748_\">\n",
       "  <thead>\n",
       "    <tr>\n",
       "      <th class=\"blank level0\" >&nbsp;</th>\n",
       "      <th class=\"col_heading level0 col0\" >model_id</th>\n",
       "      <th class=\"col_heading level0 col1\" >score_threshold</th>\n",
       "      <th class=\"col_heading level0 col2\" >k</th>\n",
       "      <th class=\"col_heading level0 col3\" >attribute_name</th>\n",
       "      <th class=\"col_heading level0 col4\" >attribute_value</th>\n",
       "      <th class=\"col_heading level0 col5\" >tpr</th>\n",
       "      <th class=\"col_heading level0 col6\" >tnr</th>\n",
       "      <th class=\"col_heading level0 col7\" >for</th>\n",
       "      <th class=\"col_heading level0 col8\" >fdr</th>\n",
       "      <th class=\"col_heading level0 col9\" >fpr</th>\n",
       "      <th class=\"col_heading level0 col10\" >fnr</th>\n",
       "      <th class=\"col_heading level0 col11\" >npv</th>\n",
       "      <th class=\"col_heading level0 col12\" >precision</th>\n",
       "      <th class=\"col_heading level0 col13\" >pp</th>\n",
       "      <th class=\"col_heading level0 col14\" >pn</th>\n",
       "      <th class=\"col_heading level0 col15\" >ppr</th>\n",
       "      <th class=\"col_heading level0 col16\" >pprev</th>\n",
       "      <th class=\"col_heading level0 col17\" >fp</th>\n",
       "      <th class=\"col_heading level0 col18\" >fn</th>\n",
       "      <th class=\"col_heading level0 col19\" >tn</th>\n",
       "      <th class=\"col_heading level0 col20\" >tp</th>\n",
       "      <th class=\"col_heading level0 col21\" >group_label_pos</th>\n",
       "      <th class=\"col_heading level0 col22\" >group_label_neg</th>\n",
       "      <th class=\"col_heading level0 col23\" >group_size</th>\n",
       "      <th class=\"col_heading level0 col24\" >total_entities</th>\n",
       "      <th class=\"col_heading level0 col25\" >prev</th>\n",
       "      <th class=\"col_heading level0 col26\" >ppr_disparity</th>\n",
       "      <th class=\"col_heading level0 col27\" >pprev_disparity</th>\n",
       "      <th class=\"col_heading level0 col28\" >precision_disparity</th>\n",
       "      <th class=\"col_heading level0 col29\" >fdr_disparity</th>\n",
       "      <th class=\"col_heading level0 col30\" >for_disparity</th>\n",
       "      <th class=\"col_heading level0 col31\" >fpr_disparity</th>\n",
       "      <th class=\"col_heading level0 col32\" >fnr_disparity</th>\n",
       "      <th class=\"col_heading level0 col33\" >tpr_disparity</th>\n",
       "      <th class=\"col_heading level0 col34\" >tnr_disparity</th>\n",
       "      <th class=\"col_heading level0 col35\" >npv_disparity</th>\n",
       "      <th class=\"col_heading level0 col36\" >ppr_ref_group_value</th>\n",
       "      <th class=\"col_heading level0 col37\" >pprev_ref_group_value</th>\n",
       "      <th class=\"col_heading level0 col38\" >precision_ref_group_value</th>\n",
       "      <th class=\"col_heading level0 col39\" >fdr_ref_group_value</th>\n",
       "      <th class=\"col_heading level0 col40\" >for_ref_group_value</th>\n",
       "      <th class=\"col_heading level0 col41\" >fpr_ref_group_value</th>\n",
       "      <th class=\"col_heading level0 col42\" >fnr_ref_group_value</th>\n",
       "      <th class=\"col_heading level0 col43\" >tpr_ref_group_value</th>\n",
       "      <th class=\"col_heading level0 col44\" >tnr_ref_group_value</th>\n",
       "      <th class=\"col_heading level0 col45\" >npv_ref_group_value</th>\n",
       "    </tr>\n",
       "  </thead>\n",
       "  <tbody>\n",
       "    <tr>\n",
       "      <th id=\"T_69748_level0_row0\" class=\"row_heading level0 row0\" >0</th>\n",
       "      <td id=\"T_69748_row0_col0\" class=\"data row0 col0\" >0</td>\n",
       "      <td id=\"T_69748_row0_col1\" class=\"data row0 col1\" >binary 0/1</td>\n",
       "      <td id=\"T_69748_row0_col2\" class=\"data row0 col2\" >99</td>\n",
       "      <td id=\"T_69748_row0_col3\" class=\"data row0 col3\" >sex</td>\n",
       "      <td id=\"T_69748_row0_col4\" class=\"data row0 col4\" >F</td>\n",
       "      <td id=\"T_69748_row0_col5\" class=\"data row0 col5\" >0.753247</td>\n",
       "      <td id=\"T_69748_row0_col6\" class=\"data row0 col6\" >0.993243</td>\n",
       "      <td id=\"T_69748_row0_col7\" class=\"data row0 col7\" >0.060703</td>\n",
       "      <td id=\"T_69748_row0_col8\" class=\"data row0 col8\" >0.033333</td>\n",
       "      <td id=\"T_69748_row0_col9\" class=\"data row0 col9\" >0.006757</td>\n",
       "      <td id=\"T_69748_row0_col10\" class=\"data row0 col10\" >0.246753</td>\n",
       "      <td id=\"T_69748_row0_col11\" class=\"data row0 col11\" >0.939297</td>\n",
       "      <td id=\"T_69748_row0_col12\" class=\"data row0 col12\" >0.966667</td>\n",
       "      <td id=\"T_69748_row0_col13\" class=\"data row0 col13\" >60</td>\n",
       "      <td id=\"T_69748_row0_col14\" class=\"data row0 col14\" >313</td>\n",
       "      <td id=\"T_69748_row0_col15\" class=\"data row0 col15\" >0.606061</td>\n",
       "      <td id=\"T_69748_row0_col16\" class=\"data row0 col16\" >0.160858</td>\n",
       "      <td id=\"T_69748_row0_col17\" class=\"data row0 col17\" >2</td>\n",
       "      <td id=\"T_69748_row0_col18\" class=\"data row0 col18\" >19</td>\n",
       "      <td id=\"T_69748_row0_col19\" class=\"data row0 col19\" >294</td>\n",
       "      <td id=\"T_69748_row0_col20\" class=\"data row0 col20\" >58</td>\n",
       "      <td id=\"T_69748_row0_col21\" class=\"data row0 col21\" >77</td>\n",
       "      <td id=\"T_69748_row0_col22\" class=\"data row0 col22\" >296</td>\n",
       "      <td id=\"T_69748_row0_col23\" class=\"data row0 col23\" >373</td>\n",
       "      <td id=\"T_69748_row0_col24\" class=\"data row0 col24\" >626</td>\n",
       "      <td id=\"T_69748_row0_col25\" class=\"data row0 col25\" >0.206434</td>\n",
       "      <td id=\"T_69748_row0_col26\" class=\"data row0 col26\" >1.538462</td>\n",
       "      <td id=\"T_69748_row0_col27\" class=\"data row0 col27\" >1.043514</td>\n",
       "      <td id=\"T_69748_row0_col28\" class=\"data row0 col28\" >0.966667</td>\n",
       "      <td id=\"T_69748_row0_col29\" class=\"data row0 col29\" >10.000000</td>\n",
       "      <td id=\"T_69748_row0_col30\" class=\"data row0 col30\" >0.764142</td>\n",
       "      <td id=\"T_69748_row0_col31\" class=\"data row0 col31\" >10.000000</td>\n",
       "      <td id=\"T_69748_row0_col32\" class=\"data row0 col32\" >0.812834</td>\n",
       "      <td id=\"T_69748_row0_col33\" class=\"data row0 col33\" >1.081585</td>\n",
       "      <td id=\"T_69748_row0_col34\" class=\"data row0 col34\" >0.993243</td>\n",
       "      <td id=\"T_69748_row0_col35\" class=\"data row0 col35\" >1.020353</td>\n",
       "      <td id=\"T_69748_row0_col36\" class=\"data row0 col36\" >M</td>\n",
       "      <td id=\"T_69748_row0_col37\" class=\"data row0 col37\" >M</td>\n",
       "      <td id=\"T_69748_row0_col38\" class=\"data row0 col38\" >M</td>\n",
       "      <td id=\"T_69748_row0_col39\" class=\"data row0 col39\" >M</td>\n",
       "      <td id=\"T_69748_row0_col40\" class=\"data row0 col40\" >M</td>\n",
       "      <td id=\"T_69748_row0_col41\" class=\"data row0 col41\" >M</td>\n",
       "      <td id=\"T_69748_row0_col42\" class=\"data row0 col42\" >M</td>\n",
       "      <td id=\"T_69748_row0_col43\" class=\"data row0 col43\" >M</td>\n",
       "      <td id=\"T_69748_row0_col44\" class=\"data row0 col44\" >M</td>\n",
       "      <td id=\"T_69748_row0_col45\" class=\"data row0 col45\" >M</td>\n",
       "    </tr>\n",
       "    <tr>\n",
       "      <th id=\"T_69748_level0_row1\" class=\"row_heading level0 row1\" >1</th>\n",
       "      <td id=\"T_69748_row1_col0\" class=\"data row1 col0\" >0</td>\n",
       "      <td id=\"T_69748_row1_col1\" class=\"data row1 col1\" >binary 0/1</td>\n",
       "      <td id=\"T_69748_row1_col2\" class=\"data row1 col2\" >99</td>\n",
       "      <td id=\"T_69748_row1_col3\" class=\"data row1 col3\" >sex</td>\n",
       "      <td id=\"T_69748_row1_col4\" class=\"data row1 col4\" >M</td>\n",
       "      <td id=\"T_69748_row1_col5\" class=\"data row1 col5\" >0.696429</td>\n",
       "      <td id=\"T_69748_row1_col6\" class=\"data row1 col6\" >1.000000</td>\n",
       "      <td id=\"T_69748_row1_col7\" class=\"data row1 col7\" >0.079439</td>\n",
       "      <td id=\"T_69748_row1_col8\" class=\"data row1 col8\" >0.000000</td>\n",
       "      <td id=\"T_69748_row1_col9\" class=\"data row1 col9\" >0.000000</td>\n",
       "      <td id=\"T_69748_row1_col10\" class=\"data row1 col10\" >0.303571</td>\n",
       "      <td id=\"T_69748_row1_col11\" class=\"data row1 col11\" >0.920561</td>\n",
       "      <td id=\"T_69748_row1_col12\" class=\"data row1 col12\" >1.000000</td>\n",
       "      <td id=\"T_69748_row1_col13\" class=\"data row1 col13\" >39</td>\n",
       "      <td id=\"T_69748_row1_col14\" class=\"data row1 col14\" >214</td>\n",
       "      <td id=\"T_69748_row1_col15\" class=\"data row1 col15\" >0.393939</td>\n",
       "      <td id=\"T_69748_row1_col16\" class=\"data row1 col16\" >0.154150</td>\n",
       "      <td id=\"T_69748_row1_col17\" class=\"data row1 col17\" >0</td>\n",
       "      <td id=\"T_69748_row1_col18\" class=\"data row1 col18\" >17</td>\n",
       "      <td id=\"T_69748_row1_col19\" class=\"data row1 col19\" >197</td>\n",
       "      <td id=\"T_69748_row1_col20\" class=\"data row1 col20\" >39</td>\n",
       "      <td id=\"T_69748_row1_col21\" class=\"data row1 col21\" >56</td>\n",
       "      <td id=\"T_69748_row1_col22\" class=\"data row1 col22\" >197</td>\n",
       "      <td id=\"T_69748_row1_col23\" class=\"data row1 col23\" >253</td>\n",
       "      <td id=\"T_69748_row1_col24\" class=\"data row1 col24\" >626</td>\n",
       "      <td id=\"T_69748_row1_col25\" class=\"data row1 col25\" >0.221344</td>\n",
       "      <td id=\"T_69748_row1_col26\" class=\"data row1 col26\" >1.000000</td>\n",
       "      <td id=\"T_69748_row1_col27\" class=\"data row1 col27\" >1.000000</td>\n",
       "      <td id=\"T_69748_row1_col28\" class=\"data row1 col28\" >1.000000</td>\n",
       "      <td id=\"T_69748_row1_col29\" class=\"data row1 col29\" >nan</td>\n",
       "      <td id=\"T_69748_row1_col30\" class=\"data row1 col30\" >1.000000</td>\n",
       "      <td id=\"T_69748_row1_col31\" class=\"data row1 col31\" >nan</td>\n",
       "      <td id=\"T_69748_row1_col32\" class=\"data row1 col32\" >1.000000</td>\n",
       "      <td id=\"T_69748_row1_col33\" class=\"data row1 col33\" >1.000000</td>\n",
       "      <td id=\"T_69748_row1_col34\" class=\"data row1 col34\" >1.000000</td>\n",
       "      <td id=\"T_69748_row1_col35\" class=\"data row1 col35\" >1.000000</td>\n",
       "      <td id=\"T_69748_row1_col36\" class=\"data row1 col36\" >M</td>\n",
       "      <td id=\"T_69748_row1_col37\" class=\"data row1 col37\" >M</td>\n",
       "      <td id=\"T_69748_row1_col38\" class=\"data row1 col38\" >M</td>\n",
       "      <td id=\"T_69748_row1_col39\" class=\"data row1 col39\" >M</td>\n",
       "      <td id=\"T_69748_row1_col40\" class=\"data row1 col40\" >M</td>\n",
       "      <td id=\"T_69748_row1_col41\" class=\"data row1 col41\" >M</td>\n",
       "      <td id=\"T_69748_row1_col42\" class=\"data row1 col42\" >M</td>\n",
       "      <td id=\"T_69748_row1_col43\" class=\"data row1 col43\" >M</td>\n",
       "      <td id=\"T_69748_row1_col44\" class=\"data row1 col44\" >M</td>\n",
       "      <td id=\"T_69748_row1_col45\" class=\"data row1 col45\" >M</td>\n",
       "    </tr>\n",
       "  </tbody>\n",
       "</table>\n"
      ],
      "text/plain": [
       "<pandas.io.formats.style.Styler at 0x24f21090ca0>"
      ]
     },
     "execution_count": 14,
     "metadata": {},
     "output_type": "execute_result"
    }
   ],
   "source": [
    "bdf = b.get_disparity_predefined_groups(xtab, original_df=df, ref_groups_dict={'sex':'M'}, alpha=0.05, mask_significance=True)\n",
    "bdf.style"
   ]
  },
  {
   "cell_type": "markdown",
   "metadata": {},
   "source": [
    "**Question 3 (1 pt):** Approximately what is the False Negative Rate disparity of the RandomForestClassifier?\n",
    "\n",
    "> a) `1.2` \\\n",
    "> b) `1.0` \\\n",
    "> x c) `0.8`  \\\n",
    "> d) `0.6`"
   ]
  },
  {
   "cell_type": "markdown",
   "metadata": {},
   "source": [
    "**Task:**  Reflect on your answer for Question 3.  Do you think the model is equitable to both males and females?  Generally, as a rule-of-thumb, we accept disparities between `0.85` and `1.15` as fair."
   ]
  },
  {
   "cell_type": "markdown",
   "metadata": {},
   "source": [
    "**Task:** First, train a new RandomForestClassifier using the same hyperparameters as earlier (and remember to use `random_state=42`), but this time, drop the feature `sex_female` from the train and test matrices.  Second, carry out the same Aequitas analysis as before and find the FNR disparity between the males and females."
   ]
  },
  {
   "cell_type": "code",
   "execution_count": 30,
   "metadata": {},
   "outputs": [],
   "source": [
    "sex_female = X_train['sex_female']\n",
    "X_train.drop(columns = 'sex_female', inplace = True)\n",
    "RandomForest = RandomForestClassifier(n_estimators = 100, max_depth = 6, random_state=42)\n",
    "RandomForest.fit(X_train, y_train)\n",
    "X_train['sex_female'] = sex_female"
   ]
  },
  {
   "cell_type": "code",
   "execution_count": 31,
   "metadata": {},
   "outputs": [
    {
     "data": {
      "text/html": [
       "<div>\n",
       "<style scoped>\n",
       "    .dataframe tbody tr th:only-of-type {\n",
       "        vertical-align: middle;\n",
       "    }\n",
       "\n",
       "    .dataframe tbody tr th {\n",
       "        vertical-align: top;\n",
       "    }\n",
       "\n",
       "    .dataframe thead th {\n",
       "        text-align: right;\n",
       "    }\n",
       "</style>\n",
       "<table border=\"1\" class=\"dataframe\">\n",
       "  <thead>\n",
       "    <tr style=\"text-align: right;\">\n",
       "      <th></th>\n",
       "      <th>sex</th>\n",
       "      <th>label_value</th>\n",
       "      <th>score</th>\n",
       "    </tr>\n",
       "  </thead>\n",
       "  <tbody>\n",
       "    <tr>\n",
       "      <th>497</th>\n",
       "      <td>F</td>\n",
       "      <td>1</td>\n",
       "      <td>1</td>\n",
       "    </tr>\n",
       "    <tr>\n",
       "      <th>326</th>\n",
       "      <td>F</td>\n",
       "      <td>1</td>\n",
       "      <td>1</td>\n",
       "    </tr>\n",
       "    <tr>\n",
       "      <th>144</th>\n",
       "      <td>F</td>\n",
       "      <td>1</td>\n",
       "      <td>1</td>\n",
       "    </tr>\n",
       "    <tr>\n",
       "      <th>545</th>\n",
       "      <td>M</td>\n",
       "      <td>1</td>\n",
       "      <td>0</td>\n",
       "    </tr>\n",
       "    <tr>\n",
       "      <th>622</th>\n",
       "      <td>M</td>\n",
       "      <td>0</td>\n",
       "      <td>0</td>\n",
       "    </tr>\n",
       "  </tbody>\n",
       "</table>\n",
       "</div>"
      ],
      "text/plain": [
       "    sex  label_value  score\n",
       "497   F            1      1\n",
       "326   F            1      1\n",
       "144   F            1      1\n",
       "545   M            1      0\n",
       "622   M            0      0"
      ]
     },
     "execution_count": 31,
     "metadata": {},
     "output_type": "execute_result"
    }
   ],
   "source": [
    "aequitas = X_train.filter(items=[\"sex_female\"])\n",
    "aequitas[\"sex\"] = aequitas[\"sex_female\"].apply(lambda x: \"F\" if x == 1 else \"M\")\n",
    "aequitas[\"label_value\"] = y_train\n",
    "X_train.drop(columns = 'sex_female', inplace = True)\n",
    "y_pred_train = RandomForest.predict(X_train)\n",
    "aequitas[\"score\"] = y_pred_train\n",
    "df = aequitas.drop(columns=[\"sex_female\"])\n",
    "\n",
    "df.head(5)"
   ]
  },
  {
   "cell_type": "code",
   "execution_count": 32,
   "metadata": {},
   "outputs": [
    {
     "data": {
      "text/plain": [
       "0.8636363636363636"
      ]
     },
     "execution_count": 32,
     "metadata": {},
     "output_type": "execute_result"
    }
   ],
   "source": [
    "g = Group()\n",
    "xtab, _ = g.get_crosstabs(df)\n",
    "xtab['fnr'][0] / xtab['fnr'][1]"
   ]
  },
  {
   "cell_type": "markdown",
   "metadata": {},
   "source": [
    "**Question 4 (1 pt):** Approximately what is the False Negative Rate disparity of the RandomForestClassifier trained without the `sex_female` feature?\n",
    "\n",
    "> a) `1.2` \\\n",
    "> b) `1.05` \\\n",
    "> x c) `0.85` \\\n",
    "> d) `0.60`"
   ]
  },
  {
   "cell_type": "markdown",
   "metadata": {},
   "source": [
    "**Task:** Reflect on the answer you found to Question 4.  Is the model more fair, or less fair?  Would you be comfortable deploying this model into the real world?  What would you say to someone concerned about the fairness of the model with respect to gender?  Could you defend the decision in a way that many different stakeholders - like policymakers, educators, students affected by the model, and even society-at-large - would see it as fair and just?\n",
    "\n",
    "What is the performance of the new model?  Was there a tradeoff between model performance and fairness?"
   ]
  },
  {
   "cell_type": "markdown",
   "metadata": {},
   "source": [
    "## Explainability"
   ]
  },
  {
   "cell_type": "markdown",
   "metadata": {},
   "source": [
    "Before deploying our model into production, we should gain some insight on *how* it is working, and *why* it is scoring the students the way it is.\n",
    "\n",
    "To do this, we will use the **black-box explainer SHAP**.  This is a post-hoc explainability method, meaning that is applied *after* our model has been trained.\n",
    "\n",
    "Before we begin explaining, we will train a commonly used black-box model for our data called XGBoost."
   ]
  },
  {
   "cell_type": "markdown",
   "metadata": {},
   "source": [
    "**Task:**  Train an XGBoost model using the hyperparemters `n_estimators=200, max_depth=5, random_state=42`.  Inspect the models performance and compare it to the Random Forest models we used earlier."
   ]
  },
  {
   "cell_type": "code",
   "execution_count": 53,
   "metadata": {},
   "outputs": [],
   "source": [
    "X_train, X_test, y_train, y_test = train_test_split(X, y, test_size=0.4, random_state=42)"
   ]
  },
  {
   "cell_type": "code",
   "execution_count": 44,
   "metadata": {},
   "outputs": [
    {
     "data": {
      "text/html": [
       "<style>#sk-container-id-3 {color: black;background-color: white;}#sk-container-id-3 pre{padding: 0;}#sk-container-id-3 div.sk-toggleable {background-color: white;}#sk-container-id-3 label.sk-toggleable__label {cursor: pointer;display: block;width: 100%;margin-bottom: 0;padding: 0.3em;box-sizing: border-box;text-align: center;}#sk-container-id-3 label.sk-toggleable__label-arrow:before {content: \"▸\";float: left;margin-right: 0.25em;color: #696969;}#sk-container-id-3 label.sk-toggleable__label-arrow:hover:before {color: black;}#sk-container-id-3 div.sk-estimator:hover label.sk-toggleable__label-arrow:before {color: black;}#sk-container-id-3 div.sk-toggleable__content {max-height: 0;max-width: 0;overflow: hidden;text-align: left;background-color: #f0f8ff;}#sk-container-id-3 div.sk-toggleable__content pre {margin: 0.2em;color: black;border-radius: 0.25em;background-color: #f0f8ff;}#sk-container-id-3 input.sk-toggleable__control:checked~div.sk-toggleable__content {max-height: 200px;max-width: 100%;overflow: auto;}#sk-container-id-3 input.sk-toggleable__control:checked~label.sk-toggleable__label-arrow:before {content: \"▾\";}#sk-container-id-3 div.sk-estimator input.sk-toggleable__control:checked~label.sk-toggleable__label {background-color: #d4ebff;}#sk-container-id-3 div.sk-label input.sk-toggleable__control:checked~label.sk-toggleable__label {background-color: #d4ebff;}#sk-container-id-3 input.sk-hidden--visually {border: 0;clip: rect(1px 1px 1px 1px);clip: rect(1px, 1px, 1px, 1px);height: 1px;margin: -1px;overflow: hidden;padding: 0;position: absolute;width: 1px;}#sk-container-id-3 div.sk-estimator {font-family: monospace;background-color: #f0f8ff;border: 1px dotted black;border-radius: 0.25em;box-sizing: border-box;margin-bottom: 0.5em;}#sk-container-id-3 div.sk-estimator:hover {background-color: #d4ebff;}#sk-container-id-3 div.sk-parallel-item::after {content: \"\";width: 100%;border-bottom: 1px solid gray;flex-grow: 1;}#sk-container-id-3 div.sk-label:hover label.sk-toggleable__label {background-color: #d4ebff;}#sk-container-id-3 div.sk-serial::before {content: \"\";position: absolute;border-left: 1px solid gray;box-sizing: border-box;top: 0;bottom: 0;left: 50%;z-index: 0;}#sk-container-id-3 div.sk-serial {display: flex;flex-direction: column;align-items: center;background-color: white;padding-right: 0.2em;padding-left: 0.2em;position: relative;}#sk-container-id-3 div.sk-item {position: relative;z-index: 1;}#sk-container-id-3 div.sk-parallel {display: flex;align-items: stretch;justify-content: center;background-color: white;position: relative;}#sk-container-id-3 div.sk-item::before, #sk-container-id-3 div.sk-parallel-item::before {content: \"\";position: absolute;border-left: 1px solid gray;box-sizing: border-box;top: 0;bottom: 0;left: 50%;z-index: -1;}#sk-container-id-3 div.sk-parallel-item {display: flex;flex-direction: column;z-index: 1;position: relative;background-color: white;}#sk-container-id-3 div.sk-parallel-item:first-child::after {align-self: flex-end;width: 50%;}#sk-container-id-3 div.sk-parallel-item:last-child::after {align-self: flex-start;width: 50%;}#sk-container-id-3 div.sk-parallel-item:only-child::after {width: 0;}#sk-container-id-3 div.sk-dashed-wrapped {border: 1px dashed gray;margin: 0 0.4em 0.5em 0.4em;box-sizing: border-box;padding-bottom: 0.4em;background-color: white;}#sk-container-id-3 div.sk-label label {font-family: monospace;font-weight: bold;display: inline-block;line-height: 1.2em;}#sk-container-id-3 div.sk-label-container {text-align: center;}#sk-container-id-3 div.sk-container {/* jupyter's `normalize.less` sets `[hidden] { display: none; }` but bootstrap.min.css set `[hidden] { display: none !important; }` so we also need the `!important` here to be able to override the default hidden behavior on the sphinx rendered scikit-learn.org. See: https://github.com/scikit-learn/scikit-learn/issues/21755 */display: inline-block !important;position: relative;}#sk-container-id-3 div.sk-text-repr-fallback {display: none;}</style><div id=\"sk-container-id-3\" class=\"sk-top-container\"><div class=\"sk-text-repr-fallback\"><pre>XGBClassifier(base_score=0.5, booster=&#x27;gbtree&#x27;, callbacks=None,\n",
       "              colsample_bylevel=1, colsample_bynode=1, colsample_bytree=1,\n",
       "              early_stopping_rounds=None, enable_categorical=False,\n",
       "              eval_metric=None, gamma=0, gpu_id=-1, grow_policy=&#x27;depthwise&#x27;,\n",
       "              importance_type=None, interaction_constraints=&#x27;&#x27;,\n",
       "              learning_rate=0.300000012, max_bin=256, max_cat_to_onehot=4,\n",
       "              max_delta_step=0, max_depth=5, max_leaves=0, min_child_weight=1,\n",
       "              missing=nan, monotone_constraints=&#x27;()&#x27;, n_estimators=200,\n",
       "              n_jobs=0, num_parallel_tree=1, predictor=&#x27;auto&#x27;, random_state=42,\n",
       "              reg_alpha=0, reg_lambda=1, ...)</pre><b>In a Jupyter environment, please rerun this cell to show the HTML representation or trust the notebook. <br />On GitHub, the HTML representation is unable to render, please try loading this page with nbviewer.org.</b></div><div class=\"sk-container\" hidden><div class=\"sk-item\"><div class=\"sk-estimator sk-toggleable\"><input class=\"sk-toggleable__control sk-hidden--visually\" id=\"sk-estimator-id-3\" type=\"checkbox\" checked><label for=\"sk-estimator-id-3\" class=\"sk-toggleable__label sk-toggleable__label-arrow\">XGBClassifier</label><div class=\"sk-toggleable__content\"><pre>XGBClassifier(base_score=0.5, booster=&#x27;gbtree&#x27;, callbacks=None,\n",
       "              colsample_bylevel=1, colsample_bynode=1, colsample_bytree=1,\n",
       "              early_stopping_rounds=None, enable_categorical=False,\n",
       "              eval_metric=None, gamma=0, gpu_id=-1, grow_policy=&#x27;depthwise&#x27;,\n",
       "              importance_type=None, interaction_constraints=&#x27;&#x27;,\n",
       "              learning_rate=0.300000012, max_bin=256, max_cat_to_onehot=4,\n",
       "              max_delta_step=0, max_depth=5, max_leaves=0, min_child_weight=1,\n",
       "              missing=nan, monotone_constraints=&#x27;()&#x27;, n_estimators=200,\n",
       "              n_jobs=0, num_parallel_tree=1, predictor=&#x27;auto&#x27;, random_state=42,\n",
       "              reg_alpha=0, reg_lambda=1, ...)</pre></div></div></div></div></div>"
      ],
      "text/plain": [
       "XGBClassifier(base_score=0.5, booster='gbtree', callbacks=None,\n",
       "              colsample_bylevel=1, colsample_bynode=1, colsample_bytree=1,\n",
       "              early_stopping_rounds=None, enable_categorical=False,\n",
       "              eval_metric=None, gamma=0, gpu_id=-1, grow_policy='depthwise',\n",
       "              importance_type=None, interaction_constraints='',\n",
       "              learning_rate=0.300000012, max_bin=256, max_cat_to_onehot=4,\n",
       "              max_delta_step=0, max_depth=5, max_leaves=0, min_child_weight=1,\n",
       "              missing=nan, monotone_constraints='()', n_estimators=200,\n",
       "              n_jobs=0, num_parallel_tree=1, predictor='auto', random_state=42,\n",
       "              reg_alpha=0, reg_lambda=1, ...)"
      ]
     },
     "execution_count": 44,
     "metadata": {},
     "output_type": "execute_result"
    }
   ],
   "source": [
    "clf = xgboost.XGBClassifier(n_estimators=200, max_depth=5,random_state=42)\n",
    "clf.fit(X_train,y_train)"
   ]
  },
  {
   "cell_type": "code",
   "execution_count": 45,
   "metadata": {},
   "outputs": [],
   "source": [
    "explainer = shap.TreeExplainer(clf)\n",
    "shap_values = explainer.shap_values(X_test)"
   ]
  },
  {
   "cell_type": "code",
   "execution_count": 46,
   "metadata": {},
   "outputs": [
    {
     "data": {
      "image/png": "[encoded data removed]",
      "text/plain": [
       "<Figure size 576x684 with 2 Axes>"
      ]
     },
     "metadata": {
      "needs_background": "light"
     },
     "output_type": "display_data"
    }
   ],
   "source": [
    "shap.summary_plot(shap_values, X_test, plot_type='dot')"
   ]
  },
  {
   "cell_type": "markdown",
   "metadata": {},
   "source": [
    "**Task:** Import the `shap` package and construct and use the `TreeExplainer` method to create a `summary_plot` (use the dot representation) for the XGBoost Classifier you just trained.\n",
    "\n",
    "*Note: you will want to use shap_vales instead of shap_values[1] as the first parameter.*"
   ]
  },
  {
   "cell_type": "markdown",
   "metadata": {},
   "source": [
    "**Task:** Reflect on the meaning of the plot.  What does each dot represent?  What do the color of the dots represent?  What is the impact on the model output?"
   ]
  },
  {
   "cell_type": "markdown",
   "metadata": {},
   "source": [
    "**Answer:** This plot is basically a map, relating for each observation the value of a feature to the prediction output. Like this, we can get a notion of of how a certain input to the model will look in the output of the model. In this specific case, we observe that grade1 plays the major role on determining the prediction of the model. A high grade1 will make the model less likely to predict failure. "
   ]
  },
  {
   "cell_type": "markdown",
   "metadata": {},
   "source": [
    "**Question 5 (1 pt):** What is the most important feature of the XGBoost Classifier, and what impact does it have on the model output when its' values are high?\n",
    "\n",
    "> a) `grade1`, positive \\\n",
    "> x b) `grade1`, negative \\\n",
    "> c) `failures`, positive \\\n",
    "> d) `failures`, negative"
   ]
  },
  {
   "cell_type": "markdown",
   "metadata": {},
   "source": [
    "**Task:** Audit the XGBoost model for bias."
   ]
  },
  {
   "cell_type": "code",
   "execution_count": 55,
   "metadata": {},
   "outputs": [
    {
     "data": {
      "text/html": [
       "<div>\n",
       "<style scoped>\n",
       "    .dataframe tbody tr th:only-of-type {\n",
       "        vertical-align: middle;\n",
       "    }\n",
       "\n",
       "    .dataframe tbody tr th {\n",
       "        vertical-align: top;\n",
       "    }\n",
       "\n",
       "    .dataframe thead th {\n",
       "        text-align: right;\n",
       "    }\n",
       "</style>\n",
       "<table border=\"1\" class=\"dataframe\">\n",
       "  <thead>\n",
       "    <tr style=\"text-align: right;\">\n",
       "      <th></th>\n",
       "      <th>sex</th>\n",
       "      <th>label_value</th>\n",
       "      <th>score</th>\n",
       "    </tr>\n",
       "  </thead>\n",
       "  <tbody>\n",
       "    <tr>\n",
       "      <th>497</th>\n",
       "      <td>F</td>\n",
       "      <td>1</td>\n",
       "      <td>1</td>\n",
       "    </tr>\n",
       "    <tr>\n",
       "      <th>326</th>\n",
       "      <td>F</td>\n",
       "      <td>1</td>\n",
       "      <td>1</td>\n",
       "    </tr>\n",
       "    <tr>\n",
       "      <th>144</th>\n",
       "      <td>F</td>\n",
       "      <td>1</td>\n",
       "      <td>1</td>\n",
       "    </tr>\n",
       "    <tr>\n",
       "      <th>545</th>\n",
       "      <td>M</td>\n",
       "      <td>1</td>\n",
       "      <td>1</td>\n",
       "    </tr>\n",
       "    <tr>\n",
       "      <th>622</th>\n",
       "      <td>M</td>\n",
       "      <td>0</td>\n",
       "      <td>0</td>\n",
       "    </tr>\n",
       "  </tbody>\n",
       "</table>\n",
       "</div>"
      ],
      "text/plain": [
       "    sex  label_value  score\n",
       "497   F            1      1\n",
       "326   F            1      1\n",
       "144   F            1      1\n",
       "545   M            1      1\n",
       "622   M            0      0"
      ]
     },
     "execution_count": 55,
     "metadata": {},
     "output_type": "execute_result"
    }
   ],
   "source": [
    "aequitas = X_train.filter(items=[\"sex_female\"])\n",
    "aequitas[\"sex\"] = aequitas[\"sex_female\"].apply(lambda x: \"F\" if x == 1 else \"M\")\n",
    "aequitas[\"label_value\"] = y_train\n",
    "y_pred_train = clf.predict(X_train)\n",
    "aequitas[\"score\"] = y_pred_train\n",
    "df = aequitas.drop(columns=[\"sex_female\"])\n",
    "\n",
    "df.head(5)"
   ]
  },
  {
   "cell_type": "code",
   "execution_count": 56,
   "metadata": {},
   "outputs": [
    {
     "data": {
      "text/plain": [
       "1.4545454545454548"
      ]
     },
     "execution_count": 56,
     "metadata": {},
     "output_type": "execute_result"
    }
   ],
   "source": [
    "g = Group()\n",
    "xtab, _ = g.get_crosstabs(df)\n",
    "xtab['fnr'][0] / xtab['fnr'][1]"
   ]
  },
  {
   "cell_type": "code",
   "execution_count": 57,
   "metadata": {},
   "outputs": [
    {
     "data": {
      "text/html": [
       "<div>\n",
       "<style scoped>\n",
       "    .dataframe tbody tr th:only-of-type {\n",
       "        vertical-align: middle;\n",
       "    }\n",
       "\n",
       "    .dataframe tbody tr th {\n",
       "        vertical-align: top;\n",
       "    }\n",
       "\n",
       "    .dataframe thead th {\n",
       "        text-align: right;\n",
       "    }\n",
       "</style>\n",
       "<table border=\"1\" class=\"dataframe\">\n",
       "  <thead>\n",
       "    <tr style=\"text-align: right;\">\n",
       "      <th></th>\n",
       "      <th>model_id</th>\n",
       "      <th>score_threshold</th>\n",
       "      <th>k</th>\n",
       "      <th>attribute_name</th>\n",
       "      <th>attribute_value</th>\n",
       "      <th>tpr</th>\n",
       "      <th>tnr</th>\n",
       "      <th>for</th>\n",
       "      <th>fdr</th>\n",
       "      <th>fpr</th>\n",
       "      <th>fnr</th>\n",
       "      <th>npv</th>\n",
       "      <th>precision</th>\n",
       "      <th>pp</th>\n",
       "      <th>pn</th>\n",
       "      <th>ppr</th>\n",
       "      <th>pprev</th>\n",
       "      <th>fp</th>\n",
       "      <th>fn</th>\n",
       "      <th>tn</th>\n",
       "      <th>tp</th>\n",
       "      <th>group_label_pos</th>\n",
       "      <th>group_label_neg</th>\n",
       "      <th>group_size</th>\n",
       "      <th>total_entities</th>\n",
       "      <th>prev</th>\n",
       "    </tr>\n",
       "  </thead>\n",
       "  <tbody>\n",
       "    <tr>\n",
       "      <th>0</th>\n",
       "      <td>0</td>\n",
       "      <td>binary 0/1</td>\n",
       "      <td>130</td>\n",
       "      <td>sex</td>\n",
       "      <td>F</td>\n",
       "      <td>0.974026</td>\n",
       "      <td>1.0</td>\n",
       "      <td>0.006711</td>\n",
       "      <td>0.0</td>\n",
       "      <td>0.0</td>\n",
       "      <td>0.025974</td>\n",
       "      <td>0.993289</td>\n",
       "      <td>1.0</td>\n",
       "      <td>75</td>\n",
       "      <td>298</td>\n",
       "      <td>0.576923</td>\n",
       "      <td>0.201072</td>\n",
       "      <td>0</td>\n",
       "      <td>2</td>\n",
       "      <td>296</td>\n",
       "      <td>75</td>\n",
       "      <td>77</td>\n",
       "      <td>296</td>\n",
       "      <td>373</td>\n",
       "      <td>626</td>\n",
       "      <td>0.206434</td>\n",
       "    </tr>\n",
       "    <tr>\n",
       "      <th>1</th>\n",
       "      <td>0</td>\n",
       "      <td>binary 0/1</td>\n",
       "      <td>130</td>\n",
       "      <td>sex</td>\n",
       "      <td>M</td>\n",
       "      <td>0.982143</td>\n",
       "      <td>1.0</td>\n",
       "      <td>0.005051</td>\n",
       "      <td>0.0</td>\n",
       "      <td>0.0</td>\n",
       "      <td>0.017857</td>\n",
       "      <td>0.994949</td>\n",
       "      <td>1.0</td>\n",
       "      <td>55</td>\n",
       "      <td>198</td>\n",
       "      <td>0.423077</td>\n",
       "      <td>0.217391</td>\n",
       "      <td>0</td>\n",
       "      <td>1</td>\n",
       "      <td>197</td>\n",
       "      <td>55</td>\n",
       "      <td>56</td>\n",
       "      <td>197</td>\n",
       "      <td>253</td>\n",
       "      <td>626</td>\n",
       "      <td>0.221344</td>\n",
       "    </tr>\n",
       "  </tbody>\n",
       "</table>\n",
       "</div>"
      ],
      "text/plain": [
       "   model_id score_threshold    k attribute_name attribute_value       tpr  \\\n",
       "0         0      binary 0/1  130            sex               F  0.974026   \n",
       "1         0      binary 0/1  130            sex               M  0.982143   \n",
       "\n",
       "   tnr       for  fdr  fpr       fnr       npv  precision  pp   pn       ppr  \\\n",
       "0  1.0  0.006711  0.0  0.0  0.025974  0.993289        1.0  75  298  0.576923   \n",
       "1  1.0  0.005051  0.0  0.0  0.017857  0.994949        1.0  55  198  0.423077   \n",
       "\n",
       "      pprev  fp  fn   tn  tp  group_label_pos  group_label_neg  group_size  \\\n",
       "0  0.201072   0   2  296  75               77              296         373   \n",
       "1  0.217391   0   1  197  55               56              197         253   \n",
       "\n",
       "   total_entities      prev  \n",
       "0             626  0.206434  \n",
       "1             626  0.221344  "
      ]
     },
     "execution_count": 57,
     "metadata": {},
     "output_type": "execute_result"
    }
   ],
   "source": [
    "xtab"
   ]
  },
  {
   "cell_type": "code",
   "execution_count": 59,
   "metadata": {
    "jupyter": {
     "source_hidden": true
    },
    "tags": []
   },
   "outputs": [
    {
     "name": "stdout",
     "output_type": "stream",
     "text": [
      "Biased into the other direction! Hoever, this is based on very few false predictions, so you cant really say that there is a bias here, although the FNR disparity is relatively high.\n"
     ]
    }
   ],
   "source": [
    "print('Biased into the other direction! Hoever, this is based on very few false predictions, so you cant really say that there is a bias here, although the FNR disparity is relatively high.')"
   ]
  }
 ],
 "metadata": {
  "kernelspec": {
   "display_name": "Python [conda env:root] *",
   "language": "python",
   "name": "conda-root-py"
  },
  "language_info": {
   "codemirror_mode": {
    "name": "ipython",
    "version": 3
   },
   "file_extension": ".py",
   "mimetype": "text/x-python",
   "name": "python",
   "nbconvert_exporter": "python",
   "pygments_lexer": "ipython3",
   "version": "3.9.7"
  }
 },
 "nbformat": 4,
 "nbformat_minor": 4
}
